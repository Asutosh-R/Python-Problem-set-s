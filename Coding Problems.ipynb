{
 "cells": [
  {
   "cell_type": "code",
   "execution_count": 5,
   "id": "8cd63f0d-340c-492d-b40a-2d8b2f86ea5f",
   "metadata": {},
   "outputs": [],
   "source": [
    "C= (F - 32) * 5/9"
   ]
  },
  {
   "cell_type": "code",
   "execution_count": 4,
   "id": "830b9fa0-bbee-414d-ad2b-f49c4573aa81",
   "metadata": {},
   "outputs": [],
   "source": [
    "F= 100"
   ]
  },
  {
   "cell_type": "code",
   "execution_count": 6,
   "id": "1f0395ac-d95a-454e-b373-f2afe7fbde38",
   "metadata": {},
   "outputs": [
    {
     "name": "stdout",
     "output_type": "stream",
     "text": [
      "37.77777777777778\n"
     ]
    }
   ],
   "source": [
    "print(C)\n"
   ]
  },
  {
   "cell_type": "code",
   "execution_count": 9,
   "id": "ac6aa988-9957-43a3-b2fd-279d3117cd36",
   "metadata": {},
   "outputs": [
    {
     "name": "stdout",
     "output_type": "stream",
     "text": [
      "520.0\n"
     ]
    }
   ],
   "source": [
    "bill = 650\n",
    "discount= 20\n",
    "final_bill= 650 - 650*(20/100)\n",
    "print(final_bill)\n"
   ]
  },
  {
   "cell_type": "code",
   "execution_count": 1,
   "id": "107fd2de-d00c-402d-bca5-1340950847e6",
   "metadata": {},
   "outputs": [
    {
     "name": "stdout",
     "output_type": "stream",
     "text": [
      "15\n",
      "I am inside the elif (bill >= 300) and (bill < 500) \n",
      "I am inside the elif (bill >= 300) and (bill < 500) \n",
      "I am inside the elif (bill >= 300) and (bill < 500) \n",
      "I am inside the elif (bill >= 300) and (bill < 500) \n",
      "I am inside the elif (bill >= 300) and (bill < 500) \n",
      "I am inside the elif (bill >= 300) and (bill < 500) \n",
      "I am inside the elif (bill >= 300) and (bill < 500) \n"
     ]
    }
   ],
   "source": [
    "# Homework - \n",
    "bills  = [600, 480, 950, 121, 340, 200, 300, 210, 111, 234, 494, 492 , 494, 472, 784]\n",
    "print(len(bills))\n",
    "for bill in bills:\n",
    "    if bill >= 500:\n",
    "        discount = 20\n",
    "    elif (bill >= 300) and (bill < 500):\n",
    "        print(\"I am inside the elif (bill >= 300) and (bill < 500) \")\n",
    "        discount = 15\n",
    "    elif (bill >= 150) and (bill < 300):\n",
    "        discount = 10\n",
    "    else:\n",
    "        discount = 5\n",
    "    "
   ]
  },
  {
   "cell_type": "code",
   "execution_count": 19,
   "id": "61fd744c",
   "metadata": {},
   "outputs": [
    {
     "name": "stdout",
     "output_type": "stream",
     "text": [
      "[1, 2, 3, 4, 5, 6, 7, 8, 9, 10, 11, 12, 13, 14, 15, 16, 17, 18, 19, 20, 21, 22, 23, 24, 25, 26, 27, 28, 29, 30, 31, 32, 33, 34, 35, 36, 37, 38, 39, 40, 41, 42, 43, 44, 45, 46, 47, 48, 49, 50, 51, 52, 53, 54, 55, 56, 57, 58, 59, 60, 61, 62, 63, 64, 65, 66, 67, 68, 69, 70, 71, 72, 73, 74, 75, 76, 77, 78, 79, 80, 81, 82, 83, 84, 85, 86, 87, 88, 89, 90, 91, 92, 93, 94, 95, 96, 97, 98, 99, 100]\n",
      "Prime number:  [1, 3, 5, 5, 5, 7, 7, 7, 7, 7, 9, 11, 11, 11, 11, 11, 11, 11, 11, 11, 13, 13, 13, 13, 13, 13, 13, 13, 13, 13, 13, 15, 17, 17, 17, 17, 17, 17, 17, 17, 17, 17, 17, 17, 17, 17, 17, 19, 19, 19, 19, 19, 19, 19, 19, 19, 19, 19, 19, 19, 19, 19, 19, 19, 21, 23, 23, 23, 23, 23, 23, 23, 23, 23, 23, 23, 23, 23, 23, 23, 23, 23, 23, 23, 23, 23, 25, 25, 25, 27, 29, 29, 29, 29, 29, 29, 29, 29, 29, 29, 29, 29, 29, 29, 29, 29, 29, 29, 29, 29, 29, 29, 29, 29, 29, 29, 29, 31, 31, 31, 31, 31, 31, 31, 31, 31, 31, 31, 31, 31, 31, 31, 31, 31, 31, 31, 31, 31, 31, 31, 31, 31, 31, 31, 31, 31, 33, 35, 35, 35, 37, 37, 37, 37, 37, 37, 37, 37, 37, 37, 37, 37, 37, 37, 37, 37, 37, 37, 37, 37, 37, 37, 37, 37, 37, 37, 37, 37, 37, 37, 37, 37, 37, 37, 37, 39, 41, 41, 41, 41, 41, 41, 41, 41, 41, 41, 41, 41, 41, 41, 41, 41, 41, 41, 41, 41, 41, 41, 41, 41, 41, 41, 41, 41, 41, 41, 41, 41, 41, 41, 41, 41, 41, 41, 41, 43, 43, 43, 43, 43, 43, 43, 43, 43, 43, 43, 43, 43, 43, 43, 43, 43, 43, 43, 43, 43, 43, 43, 43, 43, 43, 43, 43, 43, 43, 43, 43, 43, 43, 43, 43, 43, 43, 43, 43, 43, 45, 47, 47, 47, 47, 47, 47, 47, 47, 47, 47, 47, 47, 47, 47, 47, 47, 47, 47, 47, 47, 47, 47, 47, 47, 47, 47, 47, 47, 47, 47, 47, 47, 47, 47, 47, 47, 47, 47, 47, 47, 47, 47, 47, 47, 47, 49, 49, 49, 49, 49, 51, 53, 53, 53, 53, 53, 53, 53, 53, 53, 53, 53, 53, 53, 53, 53, 53, 53, 53, 53, 53, 53, 53, 53, 53, 53, 53, 53, 53, 53, 53, 53, 53, 53, 53, 53, 53, 53, 53, 53, 53, 53, 53, 53, 53, 53, 53, 53, 53, 53, 53, 53, 55, 55, 55, 57, 59, 59, 59, 59, 59, 59, 59, 59, 59, 59, 59, 59, 59, 59, 59, 59, 59, 59, 59, 59, 59, 59, 59, 59, 59, 59, 59, 59, 59, 59, 59, 59, 59, 59, 59, 59, 59, 59, 59, 59, 59, 59, 59, 59, 59, 59, 59, 59, 59, 59, 59, 59, 59, 59, 59, 59, 59, 61, 61, 61, 61, 61, 61, 61, 61, 61, 61, 61, 61, 61, 61, 61, 61, 61, 61, 61, 61, 61, 61, 61, 61, 61, 61, 61, 61, 61, 61, 61, 61, 61, 61, 61, 61, 61, 61, 61, 61, 61, 61, 61, 61, 61, 61, 61, 61, 61, 61, 61, 61, 61, 61, 61, 61, 61, 61, 61, 63, 65, 65, 65, 67, 67, 67, 67, 67, 67, 67, 67, 67, 67, 67, 67, 67, 67, 67, 67, 67, 67, 67, 67, 67, 67, 67, 67, 67, 67, 67, 67, 67, 67, 67, 67, 67, 67, 67, 67, 67, 67, 67, 67, 67, 67, 67, 67, 67, 67, 67, 67, 67, 67, 67, 67, 67, 67, 67, 67, 67, 67, 67, 67, 67, 67, 67, 67, 67, 69, 71, 71, 71, 71, 71, 71, 71, 71, 71, 71, 71, 71, 71, 71, 71, 71, 71, 71, 71, 71, 71, 71, 71, 71, 71, 71, 71, 71, 71, 71, 71, 71, 71, 71, 71, 71, 71, 71, 71, 71, 71, 71, 71, 71, 71, 71, 71, 71, 71, 71, 71, 71, 71, 71, 71, 71, 71, 71, 71, 71, 71, 71, 71, 71, 71, 71, 71, 71, 71, 73, 73, 73, 73, 73, 73, 73, 73, 73, 73, 73, 73, 73, 73, 73, 73, 73, 73, 73, 73, 73, 73, 73, 73, 73, 73, 73, 73, 73, 73, 73, 73, 73, 73, 73, 73, 73, 73, 73, 73, 73, 73, 73, 73, 73, 73, 73, 73, 73, 73, 73, 73, 73, 73, 73, 73, 73, 73, 73, 73, 73, 73, 73, 73, 73, 73, 73, 73, 73, 73, 73, 75, 77, 77, 77, 77, 77, 79, 79, 79, 79, 79, 79, 79, 79, 79, 79, 79, 79, 79, 79, 79, 79, 79, 79, 79, 79, 79, 79, 79, 79, 79, 79, 79, 79, 79, 79, 79, 79, 79, 79, 79, 79, 79, 79, 79, 79, 79, 79, 79, 79, 79, 79, 79, 79, 79, 79, 79, 79, 79, 79, 79, 79, 79, 79, 79, 79, 79, 79, 79, 79, 79, 79, 79, 79, 79, 79, 79, 79, 79, 79, 79, 79, 79, 81, 83, 83, 83, 83, 83, 83, 83, 83, 83, 83, 83, 83, 83, 83, 83, 83, 83, 83, 83, 83, 83, 83, 83, 83, 83, 83, 83, 83, 83, 83, 83, 83, 83, 83, 83, 83, 83, 83, 83, 83, 83, 83, 83, 83, 83, 83, 83, 83, 83, 83, 83, 83, 83, 83, 83, 83, 83, 83, 83, 83, 83, 83, 83, 83, 83, 83, 83, 83, 83, 83, 83, 83, 83, 83, 83, 83, 83, 83, 83, 83, 83, 85, 85, 85, 87, 89, 89, 89, 89, 89, 89, 89, 89, 89, 89, 89, 89, 89, 89, 89, 89, 89, 89, 89, 89, 89, 89, 89, 89, 89, 89, 89, 89, 89, 89, 89, 89, 89, 89, 89, 89, 89, 89, 89, 89, 89, 89, 89, 89, 89, 89, 89, 89, 89, 89, 89, 89, 89, 89, 89, 89, 89, 89, 89, 89, 89, 89, 89, 89, 89, 89, 89, 89, 89, 89, 89, 89, 89, 89, 89, 89, 89, 89, 89, 89, 89, 89, 89, 89, 89, 89, 89, 91, 91, 91, 91, 91, 93, 95, 95, 95, 97, 97, 97, 97, 97, 97, 97, 97, 97, 97, 97, 97, 97, 97, 97, 97, 97, 97, 97, 97, 97, 97, 97, 97, 97, 97, 97, 97, 97, 97, 97, 97, 97, 97, 97, 97, 97, 97, 97, 97, 97, 97, 97, 97, 97, 97, 97, 97, 97, 97, 97, 97, 97, 97, 97, 97, 97, 97, 97, 97, 97, 97, 97, 97, 97, 97, 97, 97, 97, 97, 97, 97, 97, 97, 97, 97, 97, 97, 97, 97, 97, 97, 97, 97, 97, 97, 97, 97, 97, 97, 97, 97, 97, 97, 97, 99]\n",
      "Not a Prime Number:  [4, 6, 8, 9, 10, 12, 14, 15, 16, 18, 20, 21, 22, 24, 25, 26, 27, 28, 30, 32, 33, 34, 35, 36, 38, 39, 40, 42, 44, 45, 46, 48, 49, 50, 51, 52, 54, 55, 56, 57, 58, 60, 62, 63, 64, 65, 66, 68, 69, 70, 72, 74, 75, 76, 77, 78, 80, 81, 82, 84, 85, 86, 87, 88, 90, 91, 92, 93, 94, 95, 96, 98, 99, 100]\n"
     ]
    }
   ],
   "source": [
    "# Homework\n",
    "# from all the numbers between 1 and 100 find all the prime numbers and store these prime numbers in a list?\n",
    "\n",
    "numbers= list(range(1,101))\n",
    "print(numbers)\n",
    "prime_number = []\n",
    "no_prime_number = []\n",
    "\n",
    "\n",
    "for n in numbers:\n",
    "    if n <= 1:\n",
    "        prime_number.append(n)\n",
    "    else:\n",
    "        for i in range(2,n):\n",
    "            if n % i == 0:\n",
    "                no_prime_number.append(n)\n",
    "                break\n",
    "            else:\n",
    "                prime_number.append(n)\n",
    "            \n",
    "\n",
    "\n",
    "print(\"Prime number: \", prime_number)\n",
    "print(\"Not a Prime Number: \", no_prime_number)"
   ]
  },
  {
   "cell_type": "code",
   "execution_count": 20,
   "id": "e75f3a3f",
   "metadata": {},
   "outputs": [
    {
     "name": "stdout",
     "output_type": "stream",
     "text": [
      "['Amit', 'Asutosh', 'Unmesh', 'Shekhar', 'Danny', 'Kedar', 'Asharam', 'Biplob', 'Tiger Robi', 'Keshav', 'Lankesh', 'Amit']\n"
     ]
    }
   ],
   "source": [
    "# Homework - very common interview question\n",
    "# can you remove all the occurrence of Navya from the list?\n",
    "\n",
    "friends = ['Navya', 'Amit',\n",
    "           'Asutosh',\n",
    "           'Unmesh', 'Shekhar', 'Danny',\n",
    "           'Kedar', 'Asharam', \"Navya\",\n",
    "           'Biplob', 'Tiger Robi',\n",
    "           'Keshav', \"Navya\", 'Lankesh', \"Amit\"]\n",
    "    \n",
    "for i in friends:\n",
    "    if i==\"Navya\":\n",
    "        friends.remove(i)\n",
    "\n",
    "print(friends)\n"
   ]
  },
  {
   "cell_type": "code",
   "execution_count": 3,
   "id": "c873a490",
   "metadata": {},
   "outputs": [
    {
     "name": "stdout",
     "output_type": "stream",
     "text": [
      "5 4 3 2 1 \n",
      "4 3 2 1 \n",
      "3 2 1 \n",
      "2 1 \n",
      "1 \n"
     ]
    }
   ],
   "source": [
    "'''\n",
    "Question 1 >> write code to print this pattern\n",
    "\n",
    "\n",
    "5 4 3 2 1 \n",
    "4 3 2 1 \n",
    "3 2 1 \n",
    "2 1 \n",
    "1\n",
    "'''\n",
    "\n",
    "for n in range(5, 0, -1):\n",
    "    for i in range(n, 0, -1):\n",
    "        print(i, end=\" \")\n",
    "    print()\n"
   ]
  },
  {
   "cell_type": "code",
   "execution_count": 5,
   "id": "81bdd016",
   "metadata": {},
   "outputs": [
    {
     "data": {
      "text/plain": [
       "55"
      ]
     },
     "execution_count": 5,
     "metadata": {},
     "output_type": "execute_result"
    }
   ],
   "source": [
    "# Question 2 >> Calculate sum of all numbers from 1 to a given number\n",
    "# For example, if the user entered 10, the output should be 55 (1+2+3+4+5+6+7+8+9+10)\n",
    "\n",
    "def sum_of_n(n):\n",
    "    add= 0\n",
    "    for i in range(1,n+1):\n",
    "        add= add+i\n",
    "    return add\n",
    "\n",
    "sum_of_n(10)\n"
   ]
  },
  {
   "cell_type": "code",
   "execution_count": 6,
   "id": "9d89ae2e",
   "metadata": {},
   "outputs": [
    {
     "name": "stdout",
     "output_type": "stream",
     "text": [
      "0 1 1 2 3 5 8 13 21 34 "
     ]
    }
   ],
   "source": [
    "# Question 3 >> Display Fibonacci series up to 10 terms.\n",
    "# For example, 0, 1, 1, 2, 3, 5, 8, 13, 21. The next number in this series is 13 + 21 = 34.\n",
    "\n",
    "def Fibonacci_ser(n):\n",
    "    a, b= 0, 1\n",
    "    for i in range(n):\n",
    "        print(a, end= \" \")\n",
    "        a, b= b, a + b\n",
    "\n",
    "Fibonacci_ser(10)"
   ]
  },
  {
   "cell_type": "code",
   "execution_count": 8,
   "id": "2233072b",
   "metadata": {},
   "outputs": [
    {
     "data": {
      "text/plain": [
       "20"
      ]
     },
     "execution_count": 8,
     "metadata": {},
     "output_type": "execute_result"
    }
   ],
   "source": [
    "# Question 5 >> In a range of numbers from 1 to a specific number, \n",
    "# find the sum of all the even numbers in that range of numbers\n",
    "# example if the number is 10\n",
    "# then sum of even numbers are 2 + 4 + 6 + 8 + 10\n",
    "\n",
    "def sum_even(n):\n",
    "    add= 0\n",
    "    for i in range(1,n):\n",
    "        if i%2==0:\n",
    "            add = add + i\n",
    "    return add\n",
    "\n",
    "sum_even(10)\n",
    "\n"
   ]
  },
  {
   "cell_type": "code",
   "execution_count": 10,
   "id": "680d68dc",
   "metadata": {},
   "outputs": [
    {
     "name": "stdout",
     "output_type": "stream",
     "text": [
      "volume of the sphere of 10 is 4190.48\n",
      "volume of the sphere of 20 is 33523.81\n",
      "volume of the sphere of 40 is 268190.48\n",
      "volume of the sphere of 50 is 523809.52\n",
      "volume of the sphere of 60 is 905142.86\n",
      "volume of the sphere of 80 is 2145523.81\n"
     ]
    }
   ],
   "source": [
    "# Question 6 >> For a list of numbers [ 10, 20, 40, 50, 60, 80]\n",
    "# find the volume of the sphere where the radius of the sphere is 10, 20, 40, 50, 60, 80\n",
    "\n",
    "radius=  [ 10, 20, 40, 50, 60, 80]\n",
    "\n",
    "def sphere_vol(r):\n",
    "    pi= 22/7\n",
    "    volume= round(4/3* pi * r**3,2)\n",
    "    print(f'volume of the sphere of {r} is {volume}')\n",
    "    return volume\n",
    "\n",
    "for i in radius:\n",
    "    sphere_vol(i)\n",
    "\n",
    "\n"
   ]
  },
  {
   "cell_type": "code",
   "execution_count": 11,
   "id": "bca2d691",
   "metadata": {},
   "outputs": [
    {
     "name": "stdout",
     "output_type": "stream",
     "text": [
      "-10\n",
      "-9\n",
      "-8\n",
      "-7\n",
      "-6\n",
      "-5\n",
      "-4\n",
      "-3\n",
      "-2\n",
      "-1\n"
     ]
    }
   ],
   "source": [
    "# Question 7 >> Display numbers from -10 to -1 using for loops\n",
    "\n",
    "for i in range(-10, 0):\n",
    "    print(i)"
   ]
  },
  {
   "cell_type": "code",
   "execution_count": null,
   "id": "5936a283",
   "metadata": {},
   "outputs": [],
   "source": [
    "# Question 8 >> Display numbers from a list using a loop\n",
    "#               Write a Python program to display only those numbers from a list that satisfy the following conditions\n",
    "\n",
    "#               The number must be divisible by five\n",
    "#               If the number is greater than 150, then skip it and move to the following number\n",
    "#               If the number is greater than 500, then stop the loop\n",
    "\n",
    "for i in "
   ]
  },
  {
   "cell_type": "code",
   "execution_count": 12,
   "id": "dfd2013d",
   "metadata": {},
   "outputs": [
    {
     "data": {
      "text/plain": [
       "['Ajay', 'Asutosh', 'Godly']"
      ]
     },
     "execution_count": 12,
     "metadata": {},
     "output_type": "execute_result"
    }
   ],
   "source": [
    "\n",
    "dicto= {'Asutosh':'Rath', 'Godly': 'demon','Ajay':'Dash'}\n",
    "sorted(dicto)"
   ]
  },
  {
   "cell_type": "code",
   "execution_count": 16,
   "id": "3300a00b",
   "metadata": {},
   "outputs": [
    {
     "data": {
      "text/plain": [
       "['Dash', 'Rath', 'demon']"
      ]
     },
     "execution_count": 16,
     "metadata": {},
     "output_type": "execute_result"
    }
   ],
   "source": [
    "sorted(dicto.values())"
   ]
  },
  {
   "cell_type": "code",
   "execution_count": 17,
   "id": "2fda4658",
   "metadata": {},
   "outputs": [
    {
     "data": {
      "text/plain": [
       "[('Ajay', 'Dash'), ('Asutosh', 'Rath'), ('Godly', 'demon')]"
      ]
     },
     "execution_count": 17,
     "metadata": {},
     "output_type": "execute_result"
    }
   ],
   "source": [
    "sorted(dicto.items())"
   ]
  },
  {
   "cell_type": "code",
   "execution_count": null,
   "id": "a4c4f11a",
   "metadata": {},
   "outputs": [],
   "source": [
    "def get_values(n):\n",
    "    for i in n.itmes():\n",
    "        "
   ]
  },
  {
   "cell_type": "code",
   "execution_count": 19,
   "id": "76fcfcc2",
   "metadata": {},
   "outputs": [
    {
     "name": "stdout",
     "output_type": "stream",
     "text": [
      "Help on built-in function sorted in module builtins:\n",
      "\n",
      "sorted(iterable, /, *, key=None, reverse=False)\n",
      "    Return a new list containing all items from the iterable in ascending order.\n",
      "\n",
      "    A custom key function can be supplied to customize the sort order, and the\n",
      "    reverse flag can be set to request the result in descending order.\n",
      "\n"
     ]
    }
   ],
   "source": [
    "help(sorted)"
   ]
  },
  {
   "cell_type": "code",
   "execution_count": 20,
   "id": "35513c41",
   "metadata": {},
   "outputs": [
    {
     "ename": "TypeError",
     "evalue": "'int' object is not callable",
     "output_type": "error",
     "traceback": [
      "\u001b[1;31m---------------------------------------------------------------------------\u001b[0m",
      "\u001b[1;31mTypeError\u001b[0m                                 Traceback (most recent call last)",
      "Cell \u001b[1;32mIn[20], line 1\u001b[0m\n\u001b[1;32m----> 1\u001b[0m \u001b[38;5;28;43msorted\u001b[39;49m\u001b[43m(\u001b[49m\u001b[43mdicto\u001b[49m\u001b[43m,\u001b[49m\u001b[43m \u001b[49m\u001b[43mkey\u001b[49m\u001b[38;5;241;43m=\u001b[39;49m\u001b[38;5;241;43m1\u001b[39;49m\u001b[43m)\u001b[49m\n",
      "\u001b[1;31mTypeError\u001b[0m: 'int' object is not callable"
     ]
    }
   ],
   "source": [
    "sorted(dicto, key=1)"
   ]
  },
  {
   "cell_type": "code",
   "execution_count": 21,
   "id": "e8673516",
   "metadata": {},
   "outputs": [],
   "source": [
    "radius = [10, 5, 9 ,4]\n",
    "\n",
    "area = [(22/7)* i**2 for i in radius]\n"
   ]
  },
  {
   "cell_type": "code",
   "execution_count": 22,
   "id": "c6f72ee8",
   "metadata": {},
   "outputs": [
    {
     "data": {
      "text/plain": [
       "[314.2857142857143, 78.57142857142857, 254.57142857142856, 50.285714285714285]"
      ]
     },
     "execution_count": 22,
     "metadata": {},
     "output_type": "execute_result"
    }
   ],
   "source": [
    "area"
   ]
  },
  {
   "cell_type": "code",
   "execution_count": 23,
   "id": "309d52b9",
   "metadata": {},
   "outputs": [],
   "source": [
    "divisible_three= [i for i in range(1,31) if i%3==0]"
   ]
  },
  {
   "cell_type": "code",
   "execution_count": 24,
   "id": "e2240fa1",
   "metadata": {},
   "outputs": [
    {
     "data": {
      "text/plain": [
       "[3, 6, 9, 12, 15, 18, 21, 24, 27, 30]"
      ]
     },
     "execution_count": 24,
     "metadata": {},
     "output_type": "execute_result"
    }
   ],
   "source": [
    "divisible_three"
   ]
  },
  {
   "cell_type": "code",
   "execution_count": null,
   "id": "8423fac7",
   "metadata": {},
   "outputs": [],
   "source": []
  }
 ],
 "metadata": {
  "kernelspec": {
   "display_name": "Python 3",
   "language": "python",
   "name": "python3"
  },
  "language_info": {
   "codemirror_mode": {
    "name": "ipython",
    "version": 3
   },
   "file_extension": ".py",
   "mimetype": "text/x-python",
   "name": "python",
   "nbconvert_exporter": "python",
   "pygments_lexer": "ipython3",
   "version": "3.12.5"
  }
 },
 "nbformat": 4,
 "nbformat_minor": 5
}
